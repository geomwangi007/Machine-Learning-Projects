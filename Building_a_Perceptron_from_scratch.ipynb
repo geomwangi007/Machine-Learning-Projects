{
  "nbformat": 4,
  "nbformat_minor": 0,
  "metadata": {
    "colab": {
      "provenance": [],
      "authorship_tag": "ABX9TyNfOZ4IAh2R6jHQr8KWoYAA",
      "include_colab_link": true
    },
    "kernelspec": {
      "name": "python3",
      "display_name": "Python 3"
    },
    "language_info": {
      "name": "python"
    }
  },
  "cells": [
    {
      "cell_type": "markdown",
      "metadata": {
        "id": "view-in-github",
        "colab_type": "text"
      },
      "source": [
        "<a href=\"https://colab.research.google.com/github/geomwangi007/Machine-Learning-Projects/blob/main/Building_a_Perceptron_from_scratch.ipynb\" target=\"_parent\"><img src=\"https://colab.research.google.com/assets/colab-badge.svg\" alt=\"Open In Colab\"/></a>"
      ]
    },
    {
      "cell_type": "code",
      "execution_count": 1,
      "metadata": {
        "id": "Soa7OOIZJZeO"
      },
      "outputs": [],
      "source": [
        "import numpy as np"
      ]
    },
    {
      "cell_type": "markdown",
      "source": [
        "The Sigmoid Perceptron Class"
      ],
      "metadata": {
        "id": "EAykiGM3SsG8"
      }
    },
    {
      "cell_type": "code",
      "source": [
        "class SigmoidPerceptron():\n",
        "\n",
        "  def __init__(self , input_size):\n",
        "\n",
        "    self.weights = np.random.randn(input_size)\n",
        "    self.bias = np.random.randn(1)\n",
        "\n",
        "\n",
        "\n",
        "  def sigmoid(self,z):\n",
        "\n",
        "    return 1/(1 + np.exp(-z))\n",
        "\n",
        "\n",
        "\n",
        "  def predict(self,inputs):\n",
        "\n",
        "    weighted_sum = np.dot(inputs , self.weights) + self.bias\n",
        "    return self.sigmoid(weighted_sum)\n",
        "\n",
        "\n",
        "\n",
        "  def fit(self, inputs , targets ,learning_rate ,num_epochs):\n",
        "\n",
        "    num_examples = inputs.shape[0]\n",
        "\n",
        "    for epoch in range(num_epochs):\n",
        "\n",
        "      for i in range(num_examples):\n",
        "\n",
        "        input_vector = inputs[i]\n",
        "        targets = targets[i]\n",
        "\n",
        "        prediction = self.predict(input_vactor)\n",
        "\n",
        "        error = target - prediction\n",
        "\n",
        "        #Update weights\n",
        "        gradient_weights = error * prediction * (1 - prediction) * input_vector\n",
        "\n",
        "        self.weights += learning_rate * gradient_weights\n",
        "\n",
        "        #Update bias\n",
        "        gradient_bias = error * prediction * (1 - prediction)\n",
        "        self.bias += learning_rate * gradient_bias\n",
        "\n",
        "\n",
        "\n",
        "\n",
        "\n",
        "  def evaluate(self):\n",
        "\n",
        "    correct = 0\n",
        "\n",
        "    for input_vector , target in zip(inputs , targets):\n",
        "      prediction = self.predict(input_vector)\n",
        "\n",
        "      if prediction >= 0.5:\n",
        "        predicted_class = 1\n",
        "\n",
        "      else:\n",
        "        predicted_class = 0\n",
        "\n",
        "\n",
        "      if predicted_class == target:\n",
        "        correct += 1\n",
        "\n",
        "      accuracy = correct / len(inputs)\n",
        "      return accuracy\n",
        ""
      ],
      "metadata": {
        "id": "4umPrDVQJlcO"
      },
      "execution_count": 3,
      "outputs": []
    }
  ]
}