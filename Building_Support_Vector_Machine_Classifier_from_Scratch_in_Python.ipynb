{
  "nbformat": 4,
  "nbformat_minor": 0,
  "metadata": {
    "colab": {
      "provenance": [],
      "authorship_tag": "ABX9TyNCrBGHvJEX8jzfwuehORAd",
      "include_colab_link": true
    },
    "kernelspec": {
      "name": "python3",
      "display_name": "Python 3"
    },
    "language_info": {
      "name": "python"
    }
  },
  "cells": [
    {
      "cell_type": "markdown",
      "metadata": {
        "id": "view-in-github",
        "colab_type": "text"
      },
      "source": [
        "<a href=\"https://colab.research.google.com/github/geomwangi007/Machine-Learning-Projects/blob/main/Building_Support_Vector_Machine_Classifier_from_Scratch_in_Python.ipynb\" target=\"_parent\"><img src=\"https://colab.research.google.com/assets/colab-badge.svg\" alt=\"Open In Colab\"/></a>"
      ]
    },
    {
      "cell_type": "markdown",
      "source": [
        "**SUPPORT VECTOR MACHINE CLASSIFIER**\n",
        "\n",
        "Equation of the Hyperplane:\n",
        "\n",
        "y = wx - b\n",
        "\n",
        "Gradient Descent:\n",
        "\n",
        "Gradient Descent is an optimization algorithm used for minimizing the loss function in various machine learning algorithms. It is used for updating the parameters of the learning model.\n",
        "\n",
        "w = w - α*dw\n",
        "\n",
        "b = b - α*db\n",
        "\n",
        "Learning Rate:\n",
        "\n",
        "Learning rate is a tuning parameter in an optimization algorithm that determines the step size at each iteration while moving toward a minimum of a loss function."
      ],
      "metadata": {
        "id": "O7Yo_tqJuS9V"
      }
    },
    {
      "cell_type": "code",
      "source": [
        "#Importing the dependencies\n",
        "import numpy as np\n"
      ],
      "metadata": {
        "id": "2Ce3IiA9uaG9"
      },
      "execution_count": 2,
      "outputs": []
    },
    {
      "cell_type": "markdown",
      "source": [
        "**SVM Classifier**"
      ],
      "metadata": {
        "id": "JByegmJzu8xr"
      }
    },
    {
      "cell_type": "code",
      "source": [
        "class SVM_classifier():\n",
        "\n",
        "  #Initiating the hyperparameters\n",
        "  def _init_(self,learning_rate, no_of_iterations ,lamda_parameter ):\n",
        "    self.learning_rate = learning_rate\n",
        "    self.no_of_iterations = no_of_iterations\n",
        "    self.lamda_parameter = lamda_parameter\n",
        "\n",
        "    #Fiting the dataset to the SVM Classifier\n",
        "  def fit(self, x ,y ):\n",
        "\n",
        "    #m ---> no. of datapoints/rows\n",
        "    #n ---> no. of input features/columns\n",
        "    self.m , self.n = x.shape\n",
        "\n",
        "\n",
        "  #Initiating the weight and bias values\n",
        "    self.w = np.zeros(self.n)\n",
        "    self.b = 0\n",
        "\n",
        "    self.x = x\n",
        "    self.y = y\n",
        "\n",
        "\n",
        "  #Implementing the gradient descent algorithm for optimization\n",
        "    for i in range(self.no_of_iterations):\n",
        "      self.update_weights()\n",
        "\n",
        "    #Function for updating the weight and bias values\n",
        "  def update_weights(self, ):\n",
        "    #Label encoding\n",
        "    y_label = np.where(self.y <=0, -1 , 1)\n",
        "\n",
        "    for index, x_i in enumerate(self.x):\n",
        "\n",
        "      condition = y_label[index] * (np.dot(x_i ,self.w) - self.b) >=1\n",
        "\n",
        "\n",
        "      if(condition == True):\n",
        "        dw  = 2 * self.lamda_parameter * self.w\n",
        "        db = 0\n",
        "\n",
        "\n",
        "      else:\n",
        "        dw = 2 * self.lamda_parameter * self.w - np.dot(x_i , y_label[index])\n",
        "        db = y_label[index]\n",
        "\n",
        "      self.w = self.w -self.learning_rate * dw\n",
        "      self.b = self.b - self.learning_rate * db\n",
        "\n",
        "\n",
        "    #Predict the label for a given input value\n",
        "  def predict(self, ):\n",
        "\n",
        "    output = np.dot(x , self.w) - self.b\n",
        "\n",
        "    predicted_labels = np.sign(output)\n",
        "\n",
        "    y_hat = np.where(predicted_labels <= -1 ,0 ,1)\n",
        "\n",
        "    return y_hat"
      ],
      "metadata": {
        "id": "cSa3W8AtuuQ6"
      },
      "execution_count": 6,
      "outputs": []
    }
  ]
}