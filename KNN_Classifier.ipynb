{
  "nbformat": 4,
  "nbformat_minor": 0,
  "metadata": {
    "colab": {
      "provenance": [],
      "authorship_tag": "ABX9TyMtLhjAFR2Mf2OB/upTmiUs",
      "include_colab_link": true
    },
    "kernelspec": {
      "name": "python3",
      "display_name": "Python 3"
    },
    "language_info": {
      "name": "python"
    }
  },
  "cells": [
    {
      "cell_type": "markdown",
      "metadata": {
        "id": "view-in-github",
        "colab_type": "text"
      },
      "source": [
        "<a href=\"https://colab.research.google.com/github/geomwangi007/Machine-Learning-Projects/blob/main/KNN_Classifier.ipynb\" target=\"_parent\"><img src=\"https://colab.research.google.com/assets/colab-badge.svg\" alt=\"Open In Colab\"/></a>"
      ]
    },
    {
      "cell_type": "code",
      "source": [
        "import numpy as np\n",
        "import statistics"
      ],
      "metadata": {
        "id": "6vEEfzD8D1PE"
      },
      "execution_count": 8,
      "outputs": []
    },
    {
      "cell_type": "code",
      "execution_count": 14,
      "metadata": {
        "id": "MkQAcwGkZo5C"
      },
      "outputs": [],
      "source": [
        "class KNN_Classifier():\n",
        "\n",
        "#Iniiating the parameters\n",
        "  def __init__(self ,distance_metric ):\n",
        "    self.get_distance_metric = distance_metric\n",
        "\n",
        "#Getting the distance metric\n",
        "  def get_distance_metric(self ,training_data_point, test_data_point ):\n",
        "    if (self.distance_metric == \"euclidean\" ):\n",
        "\n",
        "      dist = 0\n",
        "\n",
        "      for i in range(len(training_data) -1):\n",
        "        dist = dist + (training_data_point[i] - test_data_point[i])**2\n",
        "\n",
        "      euclidean_dist =np.sqrt(dist)\n",
        "      return euclidean_dist\n",
        "\n",
        "\n",
        "    elif (self.distance_metric == \"manhattan\"):\n",
        "\n",
        "      dist = 0\n",
        "\n",
        "      for i in range(len(training_data) -1):\n",
        "        dist = dist + abs(training_data_point[i] - test_data_point[i])\n",
        "\n",
        "      manhattan_dist =np.sqrt(dist)\n",
        "      return manhattan_dist\n",
        "\n",
        "\n",
        "\n",
        "#Getting the nearest neighbors\n",
        "  def nearest_neighbors(self , x_train ,test_data , k):\n",
        "\n",
        "    distance_list = []\n",
        "\n",
        "    for training_data in x_train:\n",
        "\n",
        "      distance = self.get_distance_metric(training_data ,test_data)\n",
        "      distance_list.append((training_data, distance))\n",
        "\n",
        "      distance_list.sort(key=lambda x: x[1])\n",
        "    neighbors = []\n",
        "\n",
        "    for j in range(k):\n",
        "      neighbors_list.append(distance_list[j][0])\n",
        "\n",
        "    return neighbors_list\n",
        "\n",
        "#Predicting the class of new data points\n",
        "  def predict(self ,x_train ,test_data ,k ):\n",
        "\n",
        "    neighbors = self.nearest_neighbors(x_train ,test_data ,k)\n",
        "\n",
        "    for data in neighbors:\n",
        "      label = []\n",
        "      label.append(data[-1])\n",
        "\n",
        "    predicted_class = statistics.mode(label)\n",
        "\n",
        "    return predicted_class"
      ]
    },
    {
      "cell_type": "code",
      "source": [],
      "metadata": {
        "id": "1F3nr080-q6e"
      },
      "execution_count": null,
      "outputs": []
    }
  ]
}